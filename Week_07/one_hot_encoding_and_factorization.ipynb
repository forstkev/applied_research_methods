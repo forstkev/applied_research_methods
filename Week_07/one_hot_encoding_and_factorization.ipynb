{
 "cells": [
  {
   "cell_type": "markdown",
   "metadata": {},
   "source": [
    "# How to use Categorical Variables in Linear Regression and Random Forest Models"
   ]
  },
  {
   "cell_type": "markdown",
   "metadata": {},
   "source": [
    "## One Hot Encoding of Categorical Variables (Use in Multiple Linear Regression)"
   ]
  },
  {
   "cell_type": "code",
   "execution_count": null,
   "metadata": {},
   "outputs": [],
   "source": [
    "import pandas as pd\n",
    "import numpy as np\n",
    "import statsmodels.api as sm\n",
    "from sklearn.model_selection import train_test_split\n",
    "\n",
    "# Simulate a small data frame with 100 records\n",
    "np.random.seed(42)\n",
    "data = pd.DataFrame({\n",
    "    'price': np.random.randint(1000, 5000, 100),\n",
    "    'breed': np.random.choice(['Labrador', 'Poodle', 'Bulldog'], 100),\n",
    "    'height': np.random.randint(10, 30, 100)\n",
    "})\n",
    "\n",
    "# One-Hot-Encoding of column 'breed'\n",
    "df = pd.get_dummies(data, columns=['breed'])\n",
    "\n",
    "# Split data into features and target\n",
    "X = df.drop('price', axis=1)\n",
    "y = df['price']\n",
    "\n",
    "# Split data into training and testing sets\n",
    "X_train, X_test, y_train, y_test = train_test_split(X, \n",
    "                                                    y, \n",
    "                                                    test_size=0.2, \n",
    "                                                    random_state=42)\n",
    "\n",
    "# Convert boolean columns to integers\n",
    "X_train = X_train.astype(int)\n",
    "\n",
    "# Add constant to the model\n",
    "X_train_const = sm.add_constant(X_train)\n",
    "\n",
    "# Create the multiple regression model\n",
    "olsmod = sm.OLS(y_train, X_train_const)\n",
    "olsres = olsmod.fit()\n",
    "\n",
    "# Print full model output\n",
    "print(olsres.summary())"
   ]
  },
  {
   "cell_type": "markdown",
   "metadata": {},
   "source": [
    "## Factorization of Categorical Variables (Use in Random Forest Regression)"
   ]
  },
  {
   "cell_type": "code",
   "execution_count": null,
   "metadata": {},
   "outputs": [],
   "source": [
    "import pandas as pd\n",
    "import numpy as np\n",
    "import seaborn as sns\n",
    "import matplotlib.pyplot as plt\n",
    "from sklearn.ensemble import RandomForestRegressor\n",
    "from sklearn.model_selection import train_test_split\n",
    "\n",
    "# Simulate a small data frame with 100 records\n",
    "np.random.seed(42)\n",
    "data = pd.DataFrame({\n",
    "    'price': np.random.randint(1000, 5000, 100),\n",
    "    'breed': np.random.choice(['Labrador', 'Poodle', 'Bulldog'], 100),\n",
    "    'height': np.random.randint(10, 30, 100)\n",
    "})\n",
    "\n",
    "# Encode 'breed' column to numeric values\n",
    "data['breed'] = pd.factorize(data['breed'])[0]\n",
    "\n",
    "# Split data into features and target\n",
    "X = data.drop('price', axis=1)\n",
    "y = data['price']\n",
    "\n",
    "# Split data into training and testing sets\n",
    "X_train, X_test, y_train, y_test = train_test_split(X, y, test_size=0.2, random_state=42)\n",
    "\n",
    "# Create and train the Random Forest model\n",
    "rf = RandomForestRegressor()\n",
    "rf.fit(X_train, y_train)\n",
    "\n",
    "# Evaluate the model\n",
    "train_score = rf.score(X_train, y_train)\n",
    "test_score = rf.score(X_test, y_test)\n",
    "print(f\"Training R^2 score: {train_score:.4f}\")\n",
    "print(f\"Testing R^2 score: {test_score:.4f}\")\n",
    "\n",
    "# Show feateure importance as bar chart\n",
    "feature_importances = rf.feature_importances_\n",
    "feature_names = X.columns\n",
    "feature_importances_df = pd.DataFrame({\n",
    "    'feature': feature_names,\n",
    "    'importance': feature_importances\n",
    "})\n",
    "feature_importances_df = feature_importances_df.sort_values('importance', \n",
    "                                                            ascending=False)\n",
    "\n",
    "plt.figure(figsize=(5, 1.5))\n",
    "sns.barplot(x='importance', \n",
    "            y='feature', \n",
    "            data=feature_importances_df, \n",
    "            color='darkred')\n",
    "plt.title('Feature Importance')\n",
    "plt.show()\n"
   ]
  }
 ],
 "metadata": {
  "kernelspec": {
   "display_name": "armenv",
   "language": "python",
   "name": "python3"
  },
  "language_info": {
   "codemirror_mode": {
    "name": "ipython",
    "version": 3
   },
   "file_extension": ".py",
   "mimetype": "text/x-python",
   "name": "python",
   "nbconvert_exporter": "python",
   "pygments_lexer": "ipython3",
   "version": "3.12.4"
  }
 },
 "nbformat": 4,
 "nbformat_minor": 2
}
